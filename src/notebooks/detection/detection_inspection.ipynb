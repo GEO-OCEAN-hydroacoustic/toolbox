{
 "cells": [
  {
   "cell_type": "code",
   "id": "initial_id",
   "metadata": {
    "collapsed": true
   },
   "source": [
    "import numpy as np\n",
    "import datetime\n",
    "import pickle\n",
    "from matplotlib import pyplot as plt\n",
    "\n",
    "from utils.data_reading.sound_data.sound_file_manager import make_manager\n",
    "from utils.physics.signal.make_spectrogram import make_spectrogram"
   ],
   "outputs": [],
   "execution_count": null
  },
  {
   "metadata": {},
   "cell_type": "code",
   "source": [
    "file = \"../../../data/detection/TiSSNet/MAHY0_res/MAHY1\"\n",
    "sound_file_path = \"/media/plerolland/akoustik/MAHY/2020/MAHY1\"\n",
    "\n",
    "MIN_P = 0.3\n",
    "\n",
    "manager = make_manager(sound_file_path)\n",
    "\n",
    "DELTA = datetime.timedelta(seconds=100)\n",
    "TIME_RES = 0.5\n",
    "FREQ_RES = 0.5\n",
    "\n",
    "dets = []\n",
    "with open(file, \"rb\") as f:\n",
    "    while True:\n",
    "        try:\n",
    "            dets.append(pickle.load(f))\n",
    "        except EOFError:\n",
    "            break\n",
    "dets = np.array(dets)\n",
    "print(f\"Found {len(dets)} detections\")"
   ],
   "id": "7fc99cf131527d2c",
   "outputs": [],
   "execution_count": null
  },
  {
   "metadata": {},
   "cell_type": "code",
   "source": [
    "N = 5\n",
    "\n",
    "fig, axs = plt.subplots(N, 1, figsize=(15, 7*N))\n",
    "\n",
    "dets = dets[dets[:,1] > MIN_P]\n",
    "np.random.shuffle(dets)\n",
    "dets_displayed = dets[:N]\n",
    "#dets_displayed = dets[np.argsort(dets[:,1])[::-1]][:N]\n",
    "\n",
    "for i, (det_date, det_p) in enumerate(dets_displayed):\n",
    "    data = manager.get_segment(det_date-DELTA, det_date+DELTA)\n",
    "    f, t, spectro = make_spectrogram(data, fs=manager.sampling_f, f_res=FREQ_RES, t_res=TIME_RES, return_bins=True, normalize=True)\n",
    "\n",
    "    axs[i].imshow(spectro, extent=(t[0], t[-1], f[0], f[-1]), cmap=\"jet\", aspect=\"auto\")\n",
    "    axs[i].set_title(f\"{det_p} at {det_date}\")"
   ],
   "id": "12107c35e0e758f9",
   "outputs": [],
   "execution_count": null
  },
  {
   "metadata": {},
   "cell_type": "code",
   "source": "",
   "id": "544fc4c8b1cf1d43",
   "outputs": [],
   "execution_count": null
  }
 ],
 "metadata": {
  "kernelspec": {
   "display_name": "Python 3",
   "language": "python",
   "name": "python3"
  },
  "language_info": {
   "codemirror_mode": {
    "name": "ipython",
    "version": 2
   },
   "file_extension": ".py",
   "mimetype": "text/x-python",
   "name": "python",
   "nbconvert_exporter": "python",
   "pygments_lexer": "ipython2",
   "version": "2.7.6"
  }
 },
 "nbformat": 4,
 "nbformat_minor": 5
}
