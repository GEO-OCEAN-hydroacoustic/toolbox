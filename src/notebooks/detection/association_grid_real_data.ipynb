{
 "cells": [
  {
   "cell_type": "code",
   "id": "initial_id",
   "metadata": {
    "collapsed": true,
    "ExecuteTime": {
     "end_time": "2025-02-19T20:06:44.432641Z",
     "start_time": "2025-02-19T20:06:42.574398Z"
    }
   },
   "source": [
    "import numpy as np\n",
    "import glob2\n",
    "import datetime\n",
    "from pathlib import Path\n",
    "import pickle\n",
    "from concurrent.futures import ProcessPoolExecutor, as_completed\n",
    "from tqdm import tqdm\n",
    "\n",
    "from utils.data_reading.sound_data.station import StationsCatalog\n",
    "from utils.physics.sound_model.spherical_sound_model import HomogeneousSphericalSoundModel as HomogeneousSoundModel\n",
    "\n",
    "from utils.detection.association import compute_candidates, association_is_new, update_valid_grid, update_results"
   ],
   "outputs": [
    {
     "name": "stderr",
     "output_type": "stream",
     "text": [
      "/home/plerolland/.local/lib/python3.10/site-packages/matplotlib/projections/__init__.py:63: UserWarning: Unable to import Axes3D. This may be due to multiple versions of Matplotlib being installed (e.g. as a system package and as a pip package). As a result, the 3D projection is not available.\n",
      "  warnings.warn(\"Unable to import Axes3D. This may be due to multiple versions of \"\n"
     ]
    }
   ],
   "execution_count": 1
  },
  {
   "metadata": {
    "ExecuteTime": {
     "end_time": "2025-02-19T20:06:44.658904Z",
     "start_time": "2025-02-19T20:06:44.470185Z"
    }
   },
   "cell_type": "code",
   "source": [
    "det_dir = \"../../../data/detection/TiSSNet/OHASISBIO-2018\"\n",
    "catalog_path = \"/home/plerolland/Bureau/dataset.yaml\"\n",
    "out_dir = \"../../../data/detection/association/OHASISBIO_grid.csv\"\n",
    "\n",
    "YEAR = 2018\n",
    "STATIONS = StationsCatalog(catalog_path).filter_out_undated().filter_out_unlocated().ends_after(datetime.datetime(YEAR,1,1)).starts_before(datetime.datetime(YEAR,12,31))\n",
    "SOUND_MODEL = HomogeneousSoundModel(sound_speed=1485.5)\n",
    "\n",
    "MIN_P_TISSNET_PRIMARY = 0.5  # min probability of browsed detections\n",
    "MIN_P_TISSNET_SECONDARY = 0.1  # min probability of detections that can be associated with the browsed one"
   ],
   "id": "7fc99cf131527d2c",
   "outputs": [],
   "execution_count": 2
  },
  {
   "metadata": {
    "ExecuteTime": {
     "end_time": "2025-02-19T20:07:12.315752Z",
     "start_time": "2025-02-19T20:06:44.834089Z"
    }
   },
   "cell_type": "code",
   "source": [
    "LAT_BOUNDS = [-60, -15]\n",
    "LON_BOUNDS = [40, 90]\n",
    "GRID_SIZE = 300\n",
    "PTS_LAT = np.linspace(LAT_BOUNDS[0], LAT_BOUNDS[1], GRID_SIZE)\n",
    "PTS_LON = np.linspace(LON_BOUNDS[0], LON_BOUNDS[1], GRID_SIZE)\n",
    "\n",
    "SOUND_SPEED_UNCERTAINTY = 2\n",
    "GRID_MAX_RES_TIME = (np.sqrt(2) * (PTS_LAT[1]-PTS_LAT[0]) * 111_000) / (SOUND_MODEL.sound_speed - SOUND_SPEED_UNCERTAINTY)\n",
    "PICK_UNCERTAINTY = 5\n",
    "GENERIC_TOLERANCE = 10\n",
    "GRID_TOLERANCE = GRID_MAX_RES_TIME + PICK_UNCERTAINTY\n",
    "print(f\"Grid tolerance of {GRID_TOLERANCE:.2f}s\")\n",
    "\n",
    "GRID_STATION_TRAVEL_TIME = {s : np.zeros((len(PTS_LAT), len(PTS_LON))) for s in STATIONS}\n",
    "for s in tqdm(STATIONS, desc=\"computing travel time grid\"):\n",
    "    for ilat, lat in enumerate(PTS_LAT):\n",
    "        for ilon, lon in enumerate(PTS_LON):\n",
    "            GRID_STATION_TRAVEL_TIME[s][ilat, ilon] = SOUND_MODEL.get_sound_travel_time([lat, lon], s.get_pos())\n",
    "\n",
    "GRID_STATION_COUPLE_TRAVEL_TIME = {s : {s2 : np.zeros((len(PTS_LAT), len(PTS_LON))) for s2 in STATIONS} for s in STATIONS}\n",
    "for s in STATIONS:\n",
    "    for s2 in STATIONS:\n",
    "        GRID_STATION_COUPLE_TRAVEL_TIME[s][s2] = GRID_STATION_TRAVEL_TIME[s2] - GRID_STATION_TRAVEL_TIME[s]\n",
    "\n",
    "STATION_MAX_TRAVEL_TIME = {s : {s2 : SOUND_MODEL.get_sound_travel_time(s.get_pos(), s2.get_pos()) for s2 in STATIONS} for s in STATIONS}"
   ],
   "id": "88c06f3d41cb1d2e",
   "outputs": [
    {
     "name": "stdout",
     "output_type": "stream",
     "text": [
      "Grid tolerance of 20.93s\n"
     ]
    },
    {
     "name": "stderr",
     "output_type": "stream",
     "text": [
      "computing travel time grid: 100%|██████████| 19/19 [00:27<00:00,  1.44s/it]\n",
      "/home/plerolland/Bureau/toolbox/src/utils/physics/sound_model/spherical_sound_model.py:62: RuntimeWarning: invalid value encountered in arccos\n",
      "  delta_sigma = np.arccos(arc)\n"
     ]
    }
   ],
   "execution_count": 3
  },
  {
   "metadata": {
    "ExecuteTime": {
     "end_time": "2025-02-19T14:35:35.991223Z",
     "start_time": "2025-02-19T14:33:50.361538Z"
    }
   },
   "cell_type": "code",
   "source": [
    "MERGE_DELTA = datetime.timedelta(seconds=5)  # threshold below which we consider two events should be merged\n",
    "DETECTIONS = {}\n",
    "\n",
    "for det_file in tqdm(glob2.glob(det_dir + \"/*\")):\n",
    "    d = []\n",
    "    with open(det_file, \"rb\") as f:\n",
    "        while True:\n",
    "            try:\n",
    "                d.append(pickle.load(f))\n",
    "            except EOFError:\n",
    "                break\n",
    "    d = np.array(d)\n",
    "    d = d[:,:2]\n",
    "    d = d[d[:,1] > MIN_P_TISSNET_SECONDARY]\n",
    "    d = d[np.argsort(d[:,0])]\n",
    "\n",
    "    # remove duplicates and regularly spaced signals\n",
    "    new_d = [d[0]]\n",
    "    for i in range(1, len(d)):\n",
    "        # check this event is far enough from the previous one\n",
    "        if d[i,0] - d[i-1,0] > MERGE_DELTA:\n",
    "            # check this event is not part of a series of regularly spaced events (which probably means we encounter seismic airgun shots)\n",
    "            if i < 3 or abs((d[i,0]-d[i-1,0]) - (d[i-1,0]-d[i-2,0])) > MERGE_DELTA and abs((d[i,0]-d[i-2,0]) - (d[i-1,0]-d[i-3,0])) > MERGE_DELTA:\n",
    "                new_d.append(d[i])\n",
    "    d = np.array(new_d)\n",
    "\n",
    "    s_name = det_file[:-2].split(\"/\")[-1].split(\"_\")[-1]\n",
    "    s_name, y_start = ID, sname = \"-\".join(s_name.split(\"-\")[:-1]), s_name.split(\"-\")[-1]\n",
    "\n",
    "    station = STATIONS.by_name(s_name).by_starting_year(int(y_start))[0]\n",
    "    DETECTIONS[station] = d\n",
    "\n",
    "    print(f\"Found {len(d)} detections for station {s_name}\")\n",
    "\n",
    "# we keep all detections in a single list, sorted by date, to then browse detections\n",
    "DETECTIONS_MERGED = np.concatenate([[(det[0], det[1], s) for det in DETECTIONS[s]] for s in STATIONS])\n",
    "DETECTIONS_MERGED = DETECTIONS_MERGED[DETECTIONS_MERGED[:,1] > MIN_P_TISSNET_PRIMARY]\n",
    "DETECTIONS_MERGED = DETECTIONS_MERGED[np.argsort(DETECTIONS_MERGED[:,0])]\n",
    "\n",
    "np.save(\"detections.npy\", DETECTIONS)\n",
    "np.save(\"detections_merged.npy\", DETECTIONS_MERGED)"
   ],
   "id": "ce83619997e86174",
   "outputs": [
    {
     "name": "stderr",
     "output_type": "stream",
     "text": [
      "  5%|▌         | 1/19 [00:03<01:08,  3.79s/it]"
     ]
    },
    {
     "name": "stdout",
     "output_type": "stream",
     "text": [
      "Found 101425 detections for station RTJ\n"
     ]
    },
    {
     "name": "stderr",
     "output_type": "stream",
     "text": [
      " 11%|█         | 2/19 [00:07<01:06,  3.92s/it]"
     ]
    },
    {
     "name": "stdout",
     "output_type": "stream",
     "text": [
      "Found 108490 detections for station ELAN\n"
     ]
    },
    {
     "name": "stderr",
     "output_type": "stream",
     "text": [
      " 16%|█▌        | 3/19 [00:08<00:40,  2.56s/it]"
     ]
    },
    {
     "name": "stdout",
     "output_type": "stream",
     "text": [
      "Found 25776 detections for station MADE\n"
     ]
    },
    {
     "name": "stderr",
     "output_type": "stream",
     "text": [
      " 21%|██        | 4/19 [00:11<00:38,  2.54s/it]"
     ]
    },
    {
     "name": "stdout",
     "output_type": "stream",
     "text": [
      "Found 71753 detections for station MADE\n",
      "Found 331 detections for station MADW\n"
     ]
    },
    {
     "name": "stderr",
     "output_type": "stream",
     "text": [
      " 32%|███▏      | 6/19 [00:15<00:30,  2.34s/it]"
     ]
    },
    {
     "name": "stdout",
     "output_type": "stream",
     "text": [
      "Found 110097 detections for station MADW\n"
     ]
    },
    {
     "name": "stderr",
     "output_type": "stream",
     "text": [
      " 37%|███▋      | 7/19 [00:24<00:50,  4.25s/it]"
     ]
    },
    {
     "name": "stdout",
     "output_type": "stream",
     "text": [
      "Found 232246 detections for station H01W1\n"
     ]
    },
    {
     "name": "stderr",
     "output_type": "stream",
     "text": [
      " 42%|████▏     | 8/19 [00:34<01:04,  5.85s/it]"
     ]
    },
    {
     "name": "stdout",
     "output_type": "stream",
     "text": [
      "Found 270649 detections for station H04N1\n"
     ]
    },
    {
     "name": "stderr",
     "output_type": "stream",
     "text": [
      " 47%|████▋     | 9/19 [00:48<01:21,  8.11s/it]"
     ]
    },
    {
     "name": "stdout",
     "output_type": "stream",
     "text": [
      "Found 373135 detections for station H04S1\n"
     ]
    },
    {
     "name": "stderr",
     "output_type": "stream",
     "text": [
      " 53%|█████▎    | 10/19 [00:51<00:58,  6.51s/it]"
     ]
    },
    {
     "name": "stdout",
     "output_type": "stream",
     "text": [
      "Found 62548 detections for station H08S1\n"
     ]
    },
    {
     "name": "stderr",
     "output_type": "stream",
     "text": [
      " 58%|█████▊    | 11/19 [00:51<00:38,  4.83s/it]"
     ]
    },
    {
     "name": "stdout",
     "output_type": "stream",
     "text": [
      "Found 23597 detections for station NEAMS\n"
     ]
    },
    {
     "name": "stderr",
     "output_type": "stream",
     "text": [
      " 63%|██████▎   | 12/19 [00:58<00:37,  5.39s/it]"
     ]
    },
    {
     "name": "stdout",
     "output_type": "stream",
     "text": [
      "Found 175290 detections for station NEAMS\n"
     ]
    },
    {
     "name": "stderr",
     "output_type": "stream",
     "text": [
      " 68%|██████▊   | 13/19 [00:59<00:23,  3.99s/it]"
     ]
    },
    {
     "name": "stdout",
     "output_type": "stream",
     "text": [
      "Found 20023 detections for station SSEIR\n"
     ]
    },
    {
     "name": "stderr",
     "output_type": "stream",
     "text": [
      " 74%|███████▎  | 14/19 [01:06<00:24,  4.81s/it]"
     ]
    },
    {
     "name": "stdout",
     "output_type": "stream",
     "text": [
      "Found 172938 detections for station SSEIR\n"
     ]
    },
    {
     "name": "stderr",
     "output_type": "stream",
     "text": [
      " 89%|████████▉ | 17/19 [01:11<00:05,  2.75s/it]"
     ]
    },
    {
     "name": "stdout",
     "output_type": "stream",
     "text": [
      "Found 121878 detections for station SSWIR\n",
      "Found 272 detections for station SWAMS\n",
      "Found 4176 detections for station WKER2\n"
     ]
    },
    {
     "name": "stderr",
     "output_type": "stream",
     "text": [
      " 95%|█████████▍| 18/19 [01:14<00:02,  2.65s/it]"
     ]
    },
    {
     "name": "stdout",
     "output_type": "stream",
     "text": [
      "Found 71462 detections for station WKER2\n"
     ]
    },
    {
     "name": "stderr",
     "output_type": "stream",
     "text": [
      "100%|██████████| 19/19 [01:19<00:00,  4.19s/it]"
     ]
    },
    {
     "name": "stdout",
     "output_type": "stream",
     "text": [
      "Found 167644 detections for station SWAMS-bot\n"
     ]
    },
    {
     "name": "stderr",
     "output_type": "stream",
     "text": [
      "\n"
     ]
    }
   ],
   "execution_count": 4
  },
  {
   "metadata": {
    "ExecuteTime": {
     "end_time": "2025-02-19T20:07:13.927002Z",
     "start_time": "2025-02-19T20:07:12.321980Z"
    }
   },
   "cell_type": "code",
   "source": [
    "DETECTIONS = np.load(\"detections.npy\", allow_pickle=True).item()\n",
    "DETECTIONS_MERGED = np.load(\"detections_merged.npy\", allow_pickle=True)"
   ],
   "id": "99df77930b3bb2f0",
   "outputs": [],
   "execution_count": 4
  },
  {
   "metadata": {
    "ExecuteTime": {
     "end_time": "2025-02-19T18:33:25.733563Z",
     "start_time": "2025-02-19T18:32:49.243789Z"
    }
   },
   "cell_type": "code",
   "source": [
    "associations = {}\n",
    "association_hashlist = set()\n",
    "\n",
    "print(\"starting association\")\n",
    "\n",
    "REQ_CLOSEST_STATIONS = 3  # The REQ_CLOSEST_STATIONS th closest stations will be required for an association to be valid\n",
    "\n",
    "SAVE_PATH_ROOT = \"../../../data/detection/association/grids/real_data\"\n",
    "SAVE_PATH_ROOT = None\n",
    "\n",
    "# dets_merged : (n,3) = n_detections x (det_time, det_probability, station)\n",
    "for date1, p1, s1 in tqdm(DETECTIONS_MERGED):\n",
    "    # in case one wants to save the grids (for visual representation of the algorithm), update the path to have 1 directory per browsed date\n",
    "    save_path = SAVE_PATH_ROOT\n",
    "    if save_path is not None:\n",
    "        save_path = f'{save_path}/{s1.name}-{date1.strftime(\"%Y%m%d_%H%M%S\")}'\n",
    "        Path(save_path).mkdir(parents=True, exist_ok=True)\n",
    "\n",
    "    # list all other stations and sort them by distance from s1\n",
    "    other_stations = np.array([s2 for s2 in STATIONS if s2 != s1])\n",
    "    other_stations = other_stations[np.argsort([STATION_MAX_TRAVEL_TIME[s1][s2] for s2 in other_stations])]\n",
    "\n",
    "    # given the detection date1 occurred on station s1, list all the detections of other stations that may be generated by the same source event\n",
    "    current_association = {s1:date1}\n",
    "    candidates =  compute_candidates(other_stations, current_association, DETECTIONS, STATION_MAX_TRAVEL_TIME, GENERIC_TOLERANCE)\n",
    "\n",
    "    # update the list of other stations to only include the ones having at least a candidate detection\n",
    "    other_stations = [s for s in other_stations if len(candidates[s]) > 0]\n",
    "\n",
    "    # define the recursive browsing function (that is responsible for browsing the search space of associations for s1-date1)\n",
    "    def backtrack(station_index, current_association, valid_grid, associations, save_path):\n",
    "        if station_index == len(other_stations):\n",
    "            return\n",
    "        station = other_stations[station_index]\n",
    "\n",
    "        candidates = compute_candidates([station], current_association, DETECTIONS, STATION_MAX_TRAVEL_TIME, GENERIC_TOLERANCE)\n",
    "        for idx in candidates[station]:\n",
    "            date, p = DETECTIONS[station][idx]\n",
    "            if not association_is_new(current_association, date, association_hashlist):\n",
    "                continue\n",
    "\n",
    "            valid_grid_new, dg_new = update_valid_grid(current_association, valid_grid, station, date, GRID_STATION_COUPLE_TRAVEL_TIME, GRID_TOLERANCE, save_path, LON_BOUNDS, LAT_BOUNDS)\n",
    "\n",
    "            valid_points_new = np.argwhere(valid_grid_new)\n",
    "\n",
    "            if len(valid_points_new) > 0:\n",
    "                current_association[station] = (date)\n",
    "\n",
    "                update_results(date1, current_association, valid_points_new, associations, GRID_STATION_COUPLE_TRAVEL_TIME)\n",
    "\n",
    "                backtrack(station_index + 1, current_association, valid_grid_new, associations, save_path)\n",
    "                del current_association[station]\n",
    "        # also try without self\n",
    "        if station_index >= REQ_CLOSEST_STATIONS:\n",
    "            backtrack(station_index + 1, current_association, valid_grid, associations, save_path)\n",
    "        return\n",
    "    backtrack(0, current_association, None, associations, save_path=save_path)"
   ],
   "id": "f8e0926b02ece093",
   "outputs": [
    {
     "name": "stdout",
     "output_type": "stream",
     "text": [
      "starting association\n"
     ]
    },
    {
     "name": "stderr",
     "output_type": "stream",
     "text": [
      "  0%|          | 172/166446 [00:36<9:45:32,  4.73it/s] \n"
     ]
    },
    {
     "ename": "KeyboardInterrupt",
     "evalue": "",
     "output_type": "error",
     "traceback": [
      "\u001B[0;31m---------------------------------------------------------------------------\u001B[0m",
      "\u001B[0;31mKeyboardInterrupt\u001B[0m                         Traceback (most recent call last)",
      "Cell \u001B[0;32mIn[24], line 57\u001B[0m\n\u001B[1;32m     55\u001B[0m         backtrack(station_index \u001B[38;5;241m+\u001B[39m \u001B[38;5;241m1\u001B[39m, current_association, valid_grid, associations, save_path)\n\u001B[1;32m     56\u001B[0m     \u001B[38;5;28;01mreturn\u001B[39;00m\n\u001B[0;32m---> 57\u001B[0m \u001B[43mbacktrack\u001B[49m\u001B[43m(\u001B[49m\u001B[38;5;241;43m0\u001B[39;49m\u001B[43m,\u001B[49m\u001B[43m \u001B[49m\u001B[43mcurrent_association\u001B[49m\u001B[43m,\u001B[49m\u001B[43m \u001B[49m\u001B[38;5;28;43;01mNone\u001B[39;49;00m\u001B[43m,\u001B[49m\u001B[43m \u001B[49m\u001B[43massociations\u001B[49m\u001B[43m,\u001B[49m\u001B[43m \u001B[49m\u001B[43msave_path\u001B[49m\u001B[38;5;241;43m=\u001B[39;49m\u001B[43msave_path\u001B[49m\u001B[43m)\u001B[49m\n",
      "Cell \u001B[0;32mIn[24], line 51\u001B[0m, in \u001B[0;36mbacktrack\u001B[0;34m(station_index, current_association, valid_grid, associations, save_path)\u001B[0m\n\u001B[1;32m     47\u001B[0m         current_association[station] \u001B[38;5;241m=\u001B[39m (date)\n\u001B[1;32m     49\u001B[0m         update_results(date1, current_association, valid_points_new, associations, GRID_STATION_COUPLE_TRAVEL_TIME)\n\u001B[0;32m---> 51\u001B[0m         \u001B[43mbacktrack\u001B[49m\u001B[43m(\u001B[49m\u001B[43mstation_index\u001B[49m\u001B[43m \u001B[49m\u001B[38;5;241;43m+\u001B[39;49m\u001B[43m \u001B[49m\u001B[38;5;241;43m1\u001B[39;49m\u001B[43m,\u001B[49m\u001B[43m \u001B[49m\u001B[43mcurrent_association\u001B[49m\u001B[43m,\u001B[49m\u001B[43m \u001B[49m\u001B[43mvalid_grid_new\u001B[49m\u001B[43m,\u001B[49m\u001B[43m \u001B[49m\u001B[43massociations\u001B[49m\u001B[43m,\u001B[49m\u001B[43m \u001B[49m\u001B[43msave_path\u001B[49m\u001B[43m)\u001B[49m\n\u001B[1;32m     52\u001B[0m         \u001B[38;5;28;01mdel\u001B[39;00m current_association[station]\n\u001B[1;32m     53\u001B[0m \u001B[38;5;66;03m# also try without self\u001B[39;00m\n",
      "Cell \u001B[0;32mIn[24], line 51\u001B[0m, in \u001B[0;36mbacktrack\u001B[0;34m(station_index, current_association, valid_grid, associations, save_path)\u001B[0m\n\u001B[1;32m     47\u001B[0m         current_association[station] \u001B[38;5;241m=\u001B[39m (date)\n\u001B[1;32m     49\u001B[0m         update_results(date1, current_association, valid_points_new, associations, GRID_STATION_COUPLE_TRAVEL_TIME)\n\u001B[0;32m---> 51\u001B[0m         \u001B[43mbacktrack\u001B[49m\u001B[43m(\u001B[49m\u001B[43mstation_index\u001B[49m\u001B[43m \u001B[49m\u001B[38;5;241;43m+\u001B[39;49m\u001B[43m \u001B[49m\u001B[38;5;241;43m1\u001B[39;49m\u001B[43m,\u001B[49m\u001B[43m \u001B[49m\u001B[43mcurrent_association\u001B[49m\u001B[43m,\u001B[49m\u001B[43m \u001B[49m\u001B[43mvalid_grid_new\u001B[49m\u001B[43m,\u001B[49m\u001B[43m \u001B[49m\u001B[43massociations\u001B[49m\u001B[43m,\u001B[49m\u001B[43m \u001B[49m\u001B[43msave_path\u001B[49m\u001B[43m)\u001B[49m\n\u001B[1;32m     52\u001B[0m         \u001B[38;5;28;01mdel\u001B[39;00m current_association[station]\n\u001B[1;32m     53\u001B[0m \u001B[38;5;66;03m# also try without self\u001B[39;00m\n",
      "Cell \u001B[0;32mIn[24], line 42\u001B[0m, in \u001B[0;36mbacktrack\u001B[0;34m(station_index, current_association, valid_grid, associations, save_path)\u001B[0m\n\u001B[1;32m     39\u001B[0m \u001B[38;5;28;01mif\u001B[39;00m \u001B[38;5;129;01mnot\u001B[39;00m association_is_new(current_association, date, association_hashlist):\n\u001B[1;32m     40\u001B[0m     \u001B[38;5;28;01mcontinue\u001B[39;00m\n\u001B[0;32m---> 42\u001B[0m valid_grid_new, dg_new \u001B[38;5;241m=\u001B[39m \u001B[43mupdate_valid_grid\u001B[49m\u001B[43m(\u001B[49m\u001B[43mcurrent_association\u001B[49m\u001B[43m,\u001B[49m\u001B[43m \u001B[49m\u001B[43mvalid_grid\u001B[49m\u001B[43m,\u001B[49m\u001B[43m \u001B[49m\u001B[43mstation\u001B[49m\u001B[43m,\u001B[49m\u001B[43m \u001B[49m\u001B[43mdate\u001B[49m\u001B[43m,\u001B[49m\u001B[43m \u001B[49m\u001B[43mGRID_STATION_COUPLE_TRAVEL_TIME\u001B[49m\u001B[43m,\u001B[49m\u001B[43m \u001B[49m\u001B[43mGRID_TOLERANCE\u001B[49m\u001B[43m,\u001B[49m\u001B[43m \u001B[49m\u001B[43msave_path\u001B[49m\u001B[43m,\u001B[49m\u001B[43m \u001B[49m\u001B[43mLON_BOUNDS\u001B[49m\u001B[43m,\u001B[49m\u001B[43m \u001B[49m\u001B[43mLAT_BOUNDS\u001B[49m\u001B[43m)\u001B[49m\n\u001B[1;32m     44\u001B[0m valid_points_new \u001B[38;5;241m=\u001B[39m np\u001B[38;5;241m.\u001B[39margwhere(valid_grid_new)\n\u001B[1;32m     46\u001B[0m \u001B[38;5;28;01mif\u001B[39;00m \u001B[38;5;28mlen\u001B[39m(valid_points_new) \u001B[38;5;241m>\u001B[39m \u001B[38;5;241m0\u001B[39m:\n",
      "File \u001B[0;32m~/Bureau/toolbox/src/utils/detection/association.py:38\u001B[0m, in \u001B[0;36mupdate_valid_grid\u001B[0;34m(current_association, current_valid_grid, new_station, new_date, grid_station_couple_travel_time, grid_tolerance, save_path, lon_bounds, lat_bounds)\u001B[0m\n\u001B[1;32m     36\u001B[0m difference_grids, valid_grids \u001B[38;5;241m=\u001B[39m [], []\n\u001B[1;32m     37\u001B[0m \u001B[38;5;28;01mfor\u001B[39;00m si, datei \u001B[38;5;129;01min\u001B[39;00m current_association\u001B[38;5;241m.\u001B[39mitems():\n\u001B[0;32m---> 38\u001B[0m     difference_grid_new, valid_grid_new \u001B[38;5;241m=\u001B[39m \u001B[43mget_valid_grid\u001B[49m\u001B[43m(\u001B[49m\u001B[43msi\u001B[49m\u001B[43m,\u001B[49m\u001B[43m \u001B[49m\u001B[43mnew_station\u001B[49m\u001B[43m,\u001B[49m\u001B[43m \u001B[49m\u001B[43mdatei\u001B[49m\u001B[43m,\u001B[49m\u001B[43m \u001B[49m\u001B[43mnew_date\u001B[49m\u001B[43m,\u001B[49m\u001B[43m \u001B[49m\u001B[43mcurrent_valid_grid\u001B[49m\u001B[43m,\u001B[49m\n\u001B[1;32m     39\u001B[0m \u001B[43m                                                         \u001B[49m\u001B[43mgrid_station_couple_travel_time\u001B[49m\u001B[43m,\u001B[49m\u001B[43m \u001B[49m\u001B[43mgrid_tolerance\u001B[49m\u001B[43m)\u001B[49m\n\u001B[1;32m     40\u001B[0m     valid_grids\u001B[38;5;241m.\u001B[39mappend(valid_grid_new)\n\u001B[1;32m     41\u001B[0m     difference_grids\u001B[38;5;241m.\u001B[39mappend(difference_grid_new)\n",
      "File \u001B[0;32m~/Bureau/toolbox/src/utils/detection/association.py:28\u001B[0m, in \u001B[0;36mget_valid_grid\u001B[0;34m(s1, s2, date1, date2, valid_grid, grid_station_couple_travel_time, grid_tolerance)\u001B[0m\n\u001B[1;32m     25\u001B[0m \u001B[38;5;28;01mif\u001B[39;00m valid_grid \u001B[38;5;129;01mis\u001B[39;00m \u001B[38;5;129;01mnot\u001B[39;00m \u001B[38;5;28;01mNone\u001B[39;00m:\n\u001B[1;32m     26\u001B[0m     grid \u001B[38;5;241m=\u001B[39m np\u001B[38;5;241m.\u001B[39mwhere(valid_grid, grid, np\u001B[38;5;241m.\u001B[39mnan)\n\u001B[0;32m---> 28\u001B[0m differences \u001B[38;5;241m=\u001B[39m \u001B[43mnp\u001B[49m\u001B[38;5;241;43m.\u001B[39;49m\u001B[43mabs\u001B[49m\u001B[43m(\u001B[49m\u001B[43mdiff\u001B[49m\u001B[43m \u001B[49m\u001B[38;5;241;43m-\u001B[39;49m\u001B[43m \u001B[49m\u001B[43mgrid\u001B[49m\u001B[43m)\u001B[49m\n\u001B[1;32m     29\u001B[0m valid_grid \u001B[38;5;241m=\u001B[39m (differences \u001B[38;5;241m<\u001B[39m grid_tolerance)\n\u001B[1;32m     31\u001B[0m \u001B[38;5;28;01mreturn\u001B[39;00m differences, valid_grid\n",
      "\u001B[0;31mKeyboardInterrupt\u001B[0m: "
     ]
    }
   ],
   "execution_count": 24
  },
  {
   "metadata": {
    "jupyter": {
     "is_executing": true
    },
    "ExecuteTime": {
     "start_time": "2025-02-19T20:07:13.976496Z"
    }
   },
   "cell_type": "code",
   "source": [
    "from multiprocessing import cpu_count\n",
    "\n",
    "cpus = cpu_count()\n",
    "print(cpus)\n",
    "\n",
    "print(\"starting association\")\n",
    "\n",
    "REQ_CLOSEST_STATIONS = 3  # The REQ_CLOSEST_STATIONS th closest stations will be required for an association to be valid\n",
    "\n",
    "SAVE_PATH_ROOT = \"../../../data/detection/association/grids\"\n",
    "SAVE_PATH_ROOT = None\n",
    "\n",
    "# dets_merged : (n,3) = n_detections x (det_time, det_probability, station)\n",
    "def process_detection(arg):\n",
    "    detection, local_association_hashlist = arg\n",
    "    local_associations = {}\n",
    "    date1, p1, s1 = detection\n",
    "    save_path = SAVE_PATH_ROOT\n",
    "    if save_path is not None:\n",
    "        save_path = f'{save_path}/{s1.name}-{date1.strftime(\"%Y%m%d_%H%M%S\")}'\n",
    "        Path(save_path).mkdir(parents=True, exist_ok=True)\n",
    "\n",
    "    # list all other stations and sort them by distance from s1\n",
    "    other_stations = np.array([s2 for s2 in STATIONS if s2 != s1])\n",
    "    other_stations = other_stations[np.argsort([STATION_MAX_TRAVEL_TIME[s1][s2] for s2 in other_stations])]\n",
    "\n",
    "    # given the detection date1 occurred on station s1, list all the detections of other stations that may be generated by the same source event\n",
    "    current_association = {s1:date1}\n",
    "    candidates =  compute_candidates(other_stations, current_association, DETECTIONS, STATION_MAX_TRAVEL_TIME, GENERIC_TOLERANCE)\n",
    "\n",
    "    # update the list of other stations to only include the ones having at least a candidate detection\n",
    "    other_stations = [s for s in other_stations if len(candidates[s]) > 0]\n",
    "\n",
    "    # define the recursive browsing function (that is responsible for browsing the search space of associations for s1-date1)\n",
    "    def backtrack(station_index, current_association, valid_grid, associations, save_path):\n",
    "        if station_index == len(other_stations):\n",
    "            return\n",
    "        station = other_stations[station_index]\n",
    "\n",
    "        candidates = compute_candidates([station], current_association, DETECTIONS, STATION_MAX_TRAVEL_TIME, GENERIC_TOLERANCE)\n",
    "        for idx in candidates[station]:\n",
    "            date, p = DETECTIONS[station][idx]\n",
    "            if not association_is_new(current_association, date, local_association_hashlist):\n",
    "                continue\n",
    "\n",
    "            valid_grid_new, dg_new = update_valid_grid(current_association, valid_grid, station, date, GRID_STATION_COUPLE_TRAVEL_TIME, GRID_TOLERANCE, save_path, LON_BOUNDS, LAT_BOUNDS)\n",
    "\n",
    "            valid_points_new = np.argwhere(valid_grid_new)\n",
    "\n",
    "            if len(valid_points_new) > 0:\n",
    "                current_association[station] = (date)\n",
    "\n",
    "                update_results(date1, current_association, valid_points_new, local_associations, GRID_STATION_COUPLE_TRAVEL_TIME)\n",
    "\n",
    "                backtrack(station_index + 1, current_association, valid_grid_new, associations, save_path)\n",
    "                del current_association[station]\n",
    "        # also try without self\n",
    "        if station_index >= REQ_CLOSEST_STATIONS:\n",
    "            backtrack(station_index + 1, current_association, valid_grid, associations, save_path)\n",
    "        return\n",
    "    backtrack(0, current_association, None, associations, save_path=save_path)\n",
    "    return local_associations, local_association_hashlist\n",
    "\n",
    "association_hashlist = set()\n",
    "associations = {}\n",
    "\n",
    "with ProcessPoolExecutor(cpu_count()-8) as executor:\n",
    "    futures = {executor.submit(process_detection, (det, association_hashlist)): det for det in DETECTIONS_MERGED}\n",
    "    for future in tqdm(as_completed(futures), total=len(futures)):\n",
    "        local_association, local_association_hashlist = future.result()\n",
    "        association_hashlist = association_hashlist.union(local_association_hashlist)\n",
    "        associations = associations | local_association\n"
   ],
   "id": "59818090cc60326c",
   "outputs": [
    {
     "name": "stdout",
     "output_type": "stream",
     "text": [
      "28\n",
      "starting association\n"
     ]
    },
    {
     "name": "stderr",
     "output_type": "stream",
     "text": [
      "  8%|▊         | 14008/166446 [8:02:04<397:55:00,  9.40s/it]"
     ]
    }
   ],
   "execution_count": null
  },
  {
   "metadata": {
    "ExecuteTime": {
     "end_time": "2025-02-20T09:20:06.670584Z",
     "start_time": "2025-02-20T09:20:06.445022Z"
    }
   },
   "cell_type": "code",
   "source": "np.save(\"associations.npy\", associations)",
   "id": "ba072e178b2a45b6",
   "outputs": [
    {
     "ename": "NameError",
     "evalue": "name 'np' is not defined",
     "output_type": "error",
     "traceback": [
      "\u001B[0;31m---------------------------------------------------------------------------\u001B[0m",
      "\u001B[0;31mNameError\u001B[0m                                 Traceback (most recent call last)",
      "Cell \u001B[0;32mIn[1], line 1\u001B[0m\n\u001B[0;32m----> 1\u001B[0m \u001B[43mnp\u001B[49m\u001B[38;5;241m.\u001B[39msave(\u001B[38;5;124m\"\u001B[39m\u001B[38;5;124massociations.npy\u001B[39m\u001B[38;5;124m\"\u001B[39m, associations)\n",
      "\u001B[0;31mNameError\u001B[0m: name 'np' is not defined"
     ]
    }
   ],
   "execution_count": 1
  },
  {
   "metadata": {
    "ExecuteTime": {
     "end_time": "2025-02-19T19:05:03.215768Z",
     "start_time": "2025-02-19T19:05:03.211538Z"
    }
   },
   "cell_type": "code",
   "source": "print(len(associations))",
   "id": "1dfc6db57d36bb4f",
   "outputs": [
    {
     "name": "stdout",
     "output_type": "stream",
     "text": [
      "2574\n"
     ]
    }
   ],
   "execution_count": 6
  },
  {
   "metadata": {
    "ExecuteTime": {
     "end_time": "2025-02-19T19:05:05.352695Z",
     "start_time": "2025-02-19T19:05:04.655772Z"
    }
   },
   "cell_type": "code",
   "source": [
    "valid = np.zeros((GRID_SIZE,GRID_SIZE))\n",
    "for date, associations_ in associations.items():\n",
    "    for (detections, valid_points) in associations_:\n",
    "        if len(detections) < 5:\n",
    "            continue\n",
    "        for i, j in valid_points:\n",
    "            valid[i,j] += 1"
   ],
   "id": "ae2b76df8eec5c29",
   "outputs": [],
   "execution_count": 7
  },
  {
   "metadata": {
    "ExecuteTime": {
     "end_time": "2025-02-19T19:05:53.970492Z",
     "start_time": "2025-02-19T19:05:53.566379Z"
    }
   },
   "cell_type": "code",
   "source": [
    "from matplotlib import pyplot as plt\n",
    "\n",
    "extent = (LON_BOUNDS[0], LON_BOUNDS[-1], LAT_BOUNDS[0], LAT_BOUNDS[-1])\n",
    "im = plt.imshow(valid[::-1], cmap=\"inferno\", extent=extent, vmin=5, interpolation=None)\n",
    "cbar = plt.colorbar(im)\n",
    "cbar.set_label('Nb of associations')"
   ],
   "id": "e54fc50094466086",
   "outputs": [
    {
     "data": {
      "text/plain": [
       "<Figure size 640x480 with 2 Axes>"
      ],
      "image/png": "[encoded data removed]"
     },
     "metadata": {},
     "output_type": "display_data"
    }
   ],
   "execution_count": 13
  },
  {
   "metadata": {},
   "cell_type": "code",
   "outputs": [],
   "execution_count": null,
   "source": "",
   "id": "5358614e2e1814b0"
  }
 ],
 "metadata": {
  "kernelspec": {
   "display_name": "Python 3",
   "language": "python",
   "name": "python3"
  },
  "language_info": {
   "codemirror_mode": {
    "name": "ipython",
    "version": 2
   },
   "file_extension": ".py",
   "mimetype": "text/x-python",
   "name": "python",
   "nbconvert_exporter": "python",
   "pygments_lexer": "ipython2",
   "version": "2.7.6"
  }
 },
 "nbformat": 4,
 "nbformat_minor": 5
}
