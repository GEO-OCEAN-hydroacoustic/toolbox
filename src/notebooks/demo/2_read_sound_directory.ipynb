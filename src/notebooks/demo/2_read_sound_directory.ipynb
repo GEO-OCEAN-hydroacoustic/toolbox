{
 "cells": [
  {
   "metadata": {},
   "cell_type": "markdown",
   "source": "This notebook enables to open a sound file directory and read a particular segment of its content.",
   "id": "178404e346cb466e"
  },
  {
   "metadata": {
    "collapsed": true
   },
   "cell_type": "code",
   "source": [
    "from matplotlib import pyplot as plt\n",
    "import datetime\n",
    "\n",
    "from utils.data_reading.sound_data.sound_file_manager import DatFilesManager"
   ],
   "id": "initial_id",
   "outputs": [],
   "execution_count": null
  },
  {
   "metadata": {},
   "cell_type": "code",
   "source": [
    "path = \"../../../data/demo/sound_data/MAHY0/MAHY01/\"  # put a DAT directory here\n",
    "\n",
    "manager = DatFilesManager(path)\n",
    "# note: WavFileManager and WFileManager exist too\n",
    "\n",
    "print(f\"Manager {manager} loaded.\")"
   ],
   "id": "947f7365ec3516d4",
   "outputs": [],
   "execution_count": null
  },
  {
   "metadata": {},
   "cell_type": "code",
   "source": [
    "# data split on two sound files\n",
    "date_start = manager.files[0].header[\"end_date\"] - datetime.timedelta(seconds=50)  # end of 1st file - 50s\n",
    "date_end = manager.files[1].header[\"start_date\"] + datetime.timedelta(seconds=50)  # start of 2nd file + 50 s\n",
    "data = manager.get_segment(date_start, date_end)\n",
    "\n",
    "print(f\"{len(data)} points fetched\")\n",
    "\n",
    "plt.plot(data)\n",
    "plt.xlabel(\"Time (s)\")\n",
    "plt.ylabel(\"Amplitude (~uPa)\")  # having given no precise sensibility, the data may be far from uPa"
   ],
   "id": "837b8a51bc9de919",
   "outputs": [],
   "execution_count": null
  }
 ],
 "metadata": {
  "kernelspec": {
   "display_name": "Python 3",
   "language": "python",
   "name": "python3"
  },
  "language_info": {
   "codemirror_mode": {
    "name": "ipython",
    "version": 2
   },
   "file_extension": ".py",
   "mimetype": "text/x-python",
   "name": "python",
   "nbconvert_exporter": "python",
   "pygments_lexer": "ipython2",
   "version": "2.7.6"
  }
 },
 "nbformat": 4,
 "nbformat_minor": 5
}
