{
 "cells": [
  {
   "cell_type": "code",
   "id": "initial_id",
   "metadata": {
    "collapsed": true,
    "ExecuteTime": {
     "end_time": "2025-02-25T13:05:08.041551Z",
     "start_time": "2025-02-25T13:05:06.291629Z"
    }
   },
   "source": [
    "from matplotlib import pyplot as plt\n",
    "import datetime\n",
    "\n",
    "from utils.data_reading.sound_data.station import StationsCatalog"
   ],
   "outputs": [],
   "execution_count": 1
  },
  {
   "metadata": {
    "ExecuteTime": {
     "end_time": "2025-02-25T13:08:03.945758Z",
     "start_time": "2025-02-25T13:08:03.913908Z"
    }
   },
   "cell_type": "code",
   "source": [
    "catalog_path = \"../../../data/demo/dataset.yaml\"\n",
    "\n",
    "stations = StationsCatalog(catalog_path)\n",
    "print(f\"Stations catalog : {stations}\")\n",
    "\n",
    "elan_raw = stations.by_dataset(\"2018_raw\")\n",
    "elan_raw = elan_raw.stations[0]\n",
    "print(f\"Station : {elan_raw}\")\n",
    "\n",
    "manager = elan_raw.get_manager()\n",
    "print(f\"Manager : {manager}\")\n",
    "\n",
    "date_start = manager.dataset_start\n",
    "date_end = manager.dataset_start + datetime.timedelta(seconds=100)\n",
    "data = manager.get_segment(date_start, date_end)\n",
    "plt.plot(data)"
   ],
   "id": "ee68c9e9dbaa2c10",
   "outputs": [
    {
     "name": "stdout",
     "output_type": "stream",
     "text": [
      "Stations catalog : (station_OHASISBIO_2018_corr_ELAN_2018, station_OHASISBIO_2018_raw_ELAN_2018)\n"
     ]
    },
    {
     "ename": "IndexError",
     "evalue": "list index out of range",
     "output_type": "error",
     "traceback": [
      "\u001B[1;31m---------------------------------------------------------------------------\u001B[0m",
      "\u001B[1;31mIndexError\u001B[0m                                Traceback (most recent call last)",
      "Cell \u001B[1;32mIn[8], line 7\u001B[0m\n\u001B[0;32m      4\u001B[0m \u001B[38;5;28mprint\u001B[39m(\u001B[38;5;124mf\u001B[39m\u001B[38;5;124m\"\u001B[39m\u001B[38;5;124mStations catalog : \u001B[39m\u001B[38;5;132;01m{\u001B[39;00mstations\u001B[38;5;132;01m}\u001B[39;00m\u001B[38;5;124m\"\u001B[39m)\n\u001B[0;32m      6\u001B[0m elan_raw \u001B[38;5;241m=\u001B[39m stations\u001B[38;5;241m.\u001B[39mby_dataset(\u001B[38;5;124m\"\u001B[39m\u001B[38;5;124m2018_raw\u001B[39m\u001B[38;5;124m\"\u001B[39m)\n\u001B[1;32m----> 7\u001B[0m elan_raw \u001B[38;5;241m=\u001B[39m \u001B[43melan_raw\u001B[49m\u001B[38;5;241;43m.\u001B[39;49m\u001B[43mstations\u001B[49m\u001B[43m[\u001B[49m\u001B[38;5;241;43m0\u001B[39;49m\u001B[43m]\u001B[49m\n\u001B[0;32m      8\u001B[0m \u001B[38;5;28mprint\u001B[39m(\u001B[38;5;124mf\u001B[39m\u001B[38;5;124m\"\u001B[39m\u001B[38;5;124mStation : \u001B[39m\u001B[38;5;132;01m{\u001B[39;00melan_raw\u001B[38;5;132;01m}\u001B[39;00m\u001B[38;5;124m\"\u001B[39m)\n\u001B[0;32m     10\u001B[0m manager \u001B[38;5;241m=\u001B[39m elan_raw\u001B[38;5;241m.\u001B[39mget_manager()\n",
      "\u001B[1;31mIndexError\u001B[0m: list index out of range"
     ]
    }
   ],
   "execution_count": 8
  },
  {
   "metadata": {},
   "cell_type": "code",
   "source": "",
   "id": "e8215b0f887085d8",
   "outputs": [],
   "execution_count": null
  }
 ],
 "metadata": {
  "kernelspec": {
   "display_name": "Python 3",
   "language": "python",
   "name": "python3"
  },
  "language_info": {
   "codemirror_mode": {
    "name": "ipython",
    "version": 2
   },
   "file_extension": ".py",
   "mimetype": "text/x-python",
   "name": "python",
   "nbconvert_exporter": "python",
   "pygments_lexer": "ipython2",
   "version": "2.7.6"
  }
 },
 "nbformat": 4,
 "nbformat_minor": 5
}
