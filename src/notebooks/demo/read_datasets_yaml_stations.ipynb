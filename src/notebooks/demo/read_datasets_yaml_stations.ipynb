{
 "cells": [
  {
   "cell_type": "code",
   "id": "initial_id",
   "metadata": {
    "collapsed": true
   },
   "source": [
    "from matplotlib import pyplot as plt\n",
    "import datetime\n",
    "\n",
    "from utils.data_reading.sound_data.station import StationsCatalog"
   ],
   "outputs": [],
   "execution_count": null
  },
  {
   "metadata": {},
   "cell_type": "code",
   "source": [
    "catalog_path = \"../../../data/demo/dataset.yaml\"\n",
    "\n",
    "stations = StationsCatalog(catalog_path)\n",
    "print(f\"Stations catalog : {stations}\")\n",
    "\n",
    "elan_raw = stations.by_dataset(\"OHASISBIO_2018_raw\")\n",
    "elan_raw = elan_raw.stations[0]\n",
    "print(f\"Station : {elan_raw}\")\n",
    "\n",
    "manager = elan_raw.get_manager()\n",
    "print(f\"Manager : {manager}\")\n",
    "\n",
    "date_start = manager.dataset_start\n",
    "date_end = manager.dataset_start + datetime.timedelta(seconds=100)\n",
    "data = manager.get_segment(date_start, date_end)\n",
    "plt.plot(data)"
   ],
   "id": "ee68c9e9dbaa2c10",
   "outputs": [],
   "execution_count": null
  },
  {
   "metadata": {},
   "cell_type": "code",
   "source": "",
   "id": "e8215b0f887085d8",
   "outputs": [],
   "execution_count": null
  }
 ],
 "metadata": {
  "kernelspec": {
   "display_name": "Python 3",
   "language": "python",
   "name": "python3"
  },
  "language_info": {
   "codemirror_mode": {
    "name": "ipython",
    "version": 2
   },
   "file_extension": ".py",
   "mimetype": "text/x-python",
   "name": "python",
   "nbconvert_exporter": "python",
   "pygments_lexer": "ipython2",
   "version": "2.7.6"
  }
 },
 "nbformat": 4,
 "nbformat_minor": 5
}
