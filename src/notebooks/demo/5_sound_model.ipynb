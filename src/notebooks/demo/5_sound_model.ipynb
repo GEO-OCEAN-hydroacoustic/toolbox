{
 "cells": [
  {
   "metadata": {},
   "cell_type": "markdown",
   "source": "This notebook shows how a sound model works.",
   "id": "b5df153603f447a7"
  },
  {
   "cell_type": "code",
   "id": "initial_id",
   "metadata": {
    "collapsed": true
   },
   "source": [
    "import datetime\n",
    "import numpy as np\n",
    "from matplotlib import pyplot as plt\n",
    "\n",
    "from utils.physics.sound_model.spherical_sound_model import HomogeneousSphericalSoundModel as HomogeneousSoundModel\n",
    "from utils.physics.sound_model.spherical_sound_model import GridSphericalSoundModel as GridSoundModel\n",
    "from utils.physics.geodesic.distance import distance_point_point"
   ],
   "outputs": [],
   "execution_count": null
  },
  {
   "metadata": {},
   "cell_type": "markdown",
   "source": "Propagation time computation",
   "id": "d7caaa4a7eb859f"
  },
  {
   "metadata": {},
   "cell_type": "code",
   "source": [
    "# propagation time\n",
    "\n",
    "pos_1 = [-25, 10]  # lat, lon format (in degrees)\n",
    "pos_2 = [-30, 15]\n",
    "# note: to get the position of a station s, just do s.get_pos()\n",
    "\n",
    "# uncomment the wanted sound model\n",
    "sound_model = GridSoundModel([f\"../../../data/sound_model/min-velocities_month-{i:02d}.nc\" for i in range(1,13)])\n",
    "#sound_model = HomogeneousSoundModel(sound_speed=1480)\n",
    "\n",
    "\n",
    "propagation_time = sound_model.get_sound_travel_time(pos_1, pos_2, datetime.datetime.now())\n",
    "print(f\"Propagation time between {pos_1} and {pos_2}: {propagation_time:.2f}s\")\n",
    "print(f\"(Distance is {distance_point_point(pos_1, pos_2)/1_000:.2f} km)\")"
   ],
   "id": "ee68c9e9dbaa2c10",
   "outputs": [],
   "execution_count": null
  },
  {
   "metadata": {},
   "cell_type": "markdown",
   "source": "Localization (given 4 detection time and positions, find the source)",
   "id": "604b5234ed46694a"
  },
  {
   "metadata": {},
   "cell_type": "code",
   "source": [
    "# location\n",
    "detection_pos_1 = [5, 0]\n",
    "detection_pos_2 = [-5, 0]\n",
    "detection_pos_3 = [0, 5]\n",
    "detection_pos_4 = [0, -5]\n",
    "detection_positions = [detection_pos_1, detection_pos_2, detection_pos_3, detection_pos_4]\n",
    "\n",
    "detection_time_1 = datetime.datetime(2020, 1, 1, 0, 0, 0)\n",
    "detection_time_2 = detection_time_1\n",
    "detection_time_3 = detection_time_1\n",
    "detection_time_4 = detection_time_1\n",
    "detection_times = [detection_time_1, detection_time_2, detection_time_3, detection_time_4]\n",
    "\n",
    "inversion = sound_model.localize_common_source(detection_positions, detection_times)\n",
    "print(f\"Found source position {inversion.x[1:]} with an emission {inversion.x[0]:.2f} s before the first detection. Cost was {inversion.cost:.2f}.\")"
   ],
   "id": "4d0f275b073239d3",
   "outputs": [],
   "execution_count": null
  },
  {
   "metadata": {},
   "cell_type": "markdown",
   "source": "Now do this same process but adding random noise on both detection times and sound velocities, to obtain a Monte-Carlo sampling of the position.",
   "id": "5f2ed460da4b6df5"
  },
  {
   "metadata": {},
   "cell_type": "code",
   "source": [
    "# MC uncertainty estimate\n",
    "pos = sound_model.MC_error_estimation(1000, pick_sigma=1.5, velocity_sigma=0.5, sensors_positions=detection_positions, detection_times=detection_times)\n",
    "pos = np.array(pos)\n",
    "plt.scatter(pos[:,2], pos[:,1])"
   ],
   "id": "2935e9cc8869bb3",
   "outputs": [],
   "execution_count": null
  }
 ],
 "metadata": {
  "kernelspec": {
   "display_name": "Python 3",
   "language": "python",
   "name": "python3"
  },
  "language_info": {
   "codemirror_mode": {
    "name": "ipython",
    "version": 2
   },
   "file_extension": ".py",
   "mimetype": "text/x-python",
   "name": "python",
   "nbconvert_exporter": "python",
   "pygments_lexer": "ipython2",
   "version": "2.7.6"
  }
 },
 "nbformat": 4,
 "nbformat_minor": 5
}
