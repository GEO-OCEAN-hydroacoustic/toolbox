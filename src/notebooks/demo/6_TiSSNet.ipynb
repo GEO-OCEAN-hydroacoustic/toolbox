{
 "cells": [
  {
   "metadata": {},
   "cell_type": "markdown",
   "source": "This notebook aims at applying TiSSNet (T-waves detector) on some acoustic data.",
   "id": "447206cd5027c17d"
  },
  {
   "cell_type": "code",
   "id": "initial_id",
   "metadata": {
    "collapsed": true
   },
   "source": [
    "import datetime\n",
    "import numpy as np\n",
    "import torch\n",
    "from torchvision.transforms import Resize\n",
    "from matplotlib import pyplot as plt\n",
    "\n",
    "from utils.data_reading.sound_data.station import StationsCatalog\n",
    "from utils.physics.signal.make_spectrogram import make_spectrogram\n",
    "from utils.detection.TiSSNet import TiSSNet"
   ],
   "outputs": [],
   "execution_count": null
  },
  {
   "metadata": {},
   "cell_type": "code",
   "source": [
    "catalog_path = \"../../../data/demo\"\n",
    "tissnet_checkpoint = \"../../../data/models/TiSSNet/torch_save\"\n",
    "\n",
    "stations = StationsCatalog(catalog_path)\n",
    "manager = stations.by_name(\"MAHY01\")[0].get_manager()\n",
    "\n",
    "model_det = TiSSNet()\n",
    "model_det.load_state_dict(torch.load(tissnet_checkpoint))"
   ],
   "id": "dd5df7fb2321b1b3",
   "outputs": [],
   "execution_count": null
  },
  {
   "metadata": {},
   "cell_type": "code",
   "source": [
    "date_start = manager.dataset_start + datetime.timedelta(seconds=150)\n",
    "date_end = date_start + datetime.timedelta(seconds=200)\n",
    "data = manager.get_segment(date_start, date_end)\n",
    "\n",
    "# these configurations are the ones needed by TiSSNet to work (this corresponds to 256 fft points at 240 Hz)\n",
    "spectrogram = make_spectrogram(data, manager.sampling_f, t_res=0.5342, f_res=0.9375, return_bins=False, normalize=True, vmin=-35, vmax=140).astype(np.float32)\n",
    "spectrogram = spectrogram[np.newaxis, :, :]  # add a dummy dimension, this stands for the channel number (here we are in grayscale, i.e. only one value for each pixel)\n",
    "input_data = Resize((128, spectrogram.shape[-1]))(torch.from_numpy(spectrogram))# resize data\n",
    "\n",
    "with torch.no_grad():  # tells PyTorch that no gradient back propagation is needed (we do not train any network here)\n",
    "    res = model_det(input_data).numpy()\n",
    "\n",
    "f = plt.figure(1)\n",
    "plt.imshow(input_data[0], aspect=\"auto\", cmap=\"jet\", vmin=0, vmax=1)\n",
    "plt.title(\"Input spectrogram\")\n",
    "plt.xlabel(\"Time (spectrogram bins)\")\n",
    "plt.ylabel(\"Frequency (spectrogram bins)\")\n",
    "f.show()\n",
    "\n",
    "g = plt.figure(2)\n",
    "plt.plot(res)\n",
    "plt.xlim(0, len(res))\n",
    "plt.ylim(0, 1)\n",
    "plt.title(\"TiSSNet result\")\n",
    "plt.xlabel(\"Time (spectrogram bins)\")\n",
    "plt.ylabel(\"Estimated probability\")\n",
    "g.show()"
   ],
   "id": "539e47a3426aaa13",
   "outputs": [],
   "execution_count": null
  }
 ],
 "metadata": {
  "kernelspec": {
   "display_name": "Python 3",
   "language": "python",
   "name": "python3"
  },
  "language_info": {
   "codemirror_mode": {
    "name": "ipython",
    "version": 2
   },
   "file_extension": ".py",
   "mimetype": "text/x-python",
   "name": "python",
   "nbconvert_exporter": "python",
   "pygments_lexer": "ipython2",
   "version": "2.7.6"
  }
 },
 "nbformat": 4,
 "nbformat_minor": 5
}
