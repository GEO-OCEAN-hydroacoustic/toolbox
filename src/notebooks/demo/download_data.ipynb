{
 "cells": [
  {
   "cell_type": "code",
   "id": "initial_id",
   "metadata": {
    "collapsed": true
   },
   "source": [
    "import urllib\n",
    "import zipfile\n",
    "import os\n",
    "import shutil"
   ],
   "outputs": [],
   "execution_count": null
  },
  {
   "metadata": {},
   "cell_type": "code",
   "source": [
    "url = \"https://ubocloud.univ-brest.fr/s/TZBYcQyf9ZcEw48/download\"\n",
    "data_path = \"../../../data\"\n",
    "archive_path = f\"{data_path}/demo_archive\""
   ],
   "id": "c4a3e0aee5f2a4b0",
   "outputs": [],
   "execution_count": null
  },
  {
   "metadata": {},
   "cell_type": "code",
   "source": [
    "# download archive\n",
    "urllib.request.urlretrieve(url, archive_path)\n",
    "\n",
    "# extract archive\n",
    "with zipfile.ZipFile(archive_path, 'r') as zip_ref:\n",
    "    zip_ref.extractall(data_path)\n",
    "\n",
    "# move extracted files\n",
    "file_names = os.listdir(f\"{data_path}/GO_toolbox\")\n",
    "for file_name in file_names:\n",
    "    shutil.move(os.path.join(f\"{data_path}/GO_toolbox\", file_name), os.path.join(data_path, file_name))\n",
    "\n",
    "# remove archive and extracted directory\n",
    "os.rmdir(f\"{data_path}/GO_toolbox\")\n",
    "os.remove(archive_path)"
   ],
   "id": "dd5e222e8188202e",
   "outputs": [],
   "execution_count": null
  }
 ],
 "metadata": {
  "kernelspec": {
   "display_name": "Python 3",
   "language": "python",
   "name": "python3"
  },
  "language_info": {
   "codemirror_mode": {
    "name": "ipython",
    "version": 2
   },
   "file_extension": ".py",
   "mimetype": "text/x-python",
   "name": "python",
   "nbconvert_exporter": "python",
   "pygments_lexer": "ipython2",
   "version": "2.7.6"
  }
 },
 "nbformat": 4,
 "nbformat_minor": 5
}
