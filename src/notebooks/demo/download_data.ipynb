{
 "cells": [
  {
   "cell_type": "code",
   "id": "initial_id",
   "metadata": {
    "collapsed": true,
    "ExecuteTime": {
     "end_time": "2025-02-25T13:06:14.754293Z",
     "start_time": "2025-02-25T13:06:14.737780Z"
    }
   },
   "source": [
    "import urllib\n",
    "import zipfile\n",
    "import os\n",
    "import shutil"
   ],
   "outputs": [],
   "execution_count": 1
  },
  {
   "metadata": {
    "ExecuteTime": {
     "end_time": "2025-02-25T13:06:14.767780Z",
     "start_time": "2025-02-25T13:06:14.761435Z"
    }
   },
   "cell_type": "code",
   "source": [
    "url = \"https://ubocloud.univ-brest.fr/s/TZBYcQyf9ZcEw48/download\"\n",
    "data_path = \"../../../data\"\n",
    "archive_path = f\"{data_path}/demo_archive\""
   ],
   "id": "c4a3e0aee5f2a4b0",
   "outputs": [],
   "execution_count": 2
  },
  {
   "metadata": {
    "ExecuteTime": {
     "end_time": "2025-02-25T13:07:09.795876Z",
     "start_time": "2025-02-25T13:06:15.009837Z"
    }
   },
   "cell_type": "code",
   "source": [
    "# download archive\n",
    "urllib.request.urlretrieve(url, archive_path)\n",
    "\n",
    "# extract archive\n",
    "with zipfile.ZipFile(archive_path, 'r') as zip_ref:\n",
    "    zip_ref.extractall(data_path)\n",
    "\n",
    "# move extracted files\n",
    "file_names = os.listdir(f\"{data_path}/GO_toolbox\")\n",
    "for file_name in file_names:\n",
    "    shutil.move(os.path.join(f\"{data_path}/GO_toolbox\", file_name), os.path.join(data_path, file_name))\n",
    "\n",
    "# remove archive and extracted directory\n",
    "# os.rmdir(f\"{data_path}/GO_toolbox\")\n",
    "# os.remove(archive_path)"
   ],
   "id": "dd5e222e8188202e",
   "outputs": [
    {
     "ename": "Error",
     "evalue": "Destination path '../../../data\\demo\\demo' already exists",
     "output_type": "error",
     "traceback": [
      "\u001B[1;31m---------------------------------------------------------------------------\u001B[0m",
      "\u001B[1;31mError\u001B[0m                                     Traceback (most recent call last)",
      "Cell \u001B[1;32mIn[3], line 11\u001B[0m\n\u001B[0;32m      9\u001B[0m file_names \u001B[38;5;241m=\u001B[39m os\u001B[38;5;241m.\u001B[39mlistdir(\u001B[38;5;124mf\u001B[39m\u001B[38;5;124m\"\u001B[39m\u001B[38;5;132;01m{\u001B[39;00mdata_path\u001B[38;5;132;01m}\u001B[39;00m\u001B[38;5;124m/GO_toolbox\u001B[39m\u001B[38;5;124m\"\u001B[39m)\n\u001B[0;32m     10\u001B[0m \u001B[38;5;28;01mfor\u001B[39;00m file_name \u001B[38;5;129;01min\u001B[39;00m file_names:\n\u001B[1;32m---> 11\u001B[0m     \u001B[43mshutil\u001B[49m\u001B[38;5;241;43m.\u001B[39;49m\u001B[43mmove\u001B[49m\u001B[43m(\u001B[49m\u001B[43mos\u001B[49m\u001B[38;5;241;43m.\u001B[39;49m\u001B[43mpath\u001B[49m\u001B[38;5;241;43m.\u001B[39;49m\u001B[43mjoin\u001B[49m\u001B[43m(\u001B[49m\u001B[38;5;124;43mf\u001B[39;49m\u001B[38;5;124;43m\"\u001B[39;49m\u001B[38;5;132;43;01m{\u001B[39;49;00m\u001B[43mdata_path\u001B[49m\u001B[38;5;132;43;01m}\u001B[39;49;00m\u001B[38;5;124;43m/GO_toolbox\u001B[39;49m\u001B[38;5;124;43m\"\u001B[39;49m\u001B[43m,\u001B[49m\u001B[43m \u001B[49m\u001B[43mfile_name\u001B[49m\u001B[43m)\u001B[49m\u001B[43m,\u001B[49m\u001B[43m \u001B[49m\u001B[43mos\u001B[49m\u001B[38;5;241;43m.\u001B[39;49m\u001B[43mpath\u001B[49m\u001B[38;5;241;43m.\u001B[39;49m\u001B[43mjoin\u001B[49m\u001B[43m(\u001B[49m\u001B[43mdata_path\u001B[49m\u001B[43m,\u001B[49m\u001B[43m \u001B[49m\u001B[43mfile_name\u001B[49m\u001B[43m)\u001B[49m\u001B[43m)\u001B[49m\n\u001B[0;32m     13\u001B[0m \u001B[38;5;66;03m# remove archive and extracted directory\u001B[39;00m\n\u001B[0;32m     14\u001B[0m \u001B[38;5;66;03m# os.rmdir(f\"{data_path}/GO_toolbox\")\u001B[39;00m\n\u001B[0;32m     15\u001B[0m \u001B[38;5;66;03m# os.remove(archive_path)\u001B[39;00m\n",
      "File \u001B[1;32m~\\AppData\\Local\\Programs\\Python\\Python312\\Lib\\shutil.py:845\u001B[0m, in \u001B[0;36mmove\u001B[1;34m(src, dst, copy_function)\u001B[0m\n\u001B[0;32m    842\u001B[0m     real_dst \u001B[38;5;241m=\u001B[39m os\u001B[38;5;241m.\u001B[39mpath\u001B[38;5;241m.\u001B[39mjoin(dst, _basename(src))\n\u001B[0;32m    844\u001B[0m     \u001B[38;5;28;01mif\u001B[39;00m os\u001B[38;5;241m.\u001B[39mpath\u001B[38;5;241m.\u001B[39mexists(real_dst):\n\u001B[1;32m--> 845\u001B[0m         \u001B[38;5;28;01mraise\u001B[39;00m Error(\u001B[38;5;124m\"\u001B[39m\u001B[38;5;124mDestination path \u001B[39m\u001B[38;5;124m'\u001B[39m\u001B[38;5;132;01m%s\u001B[39;00m\u001B[38;5;124m'\u001B[39m\u001B[38;5;124m already exists\u001B[39m\u001B[38;5;124m\"\u001B[39m \u001B[38;5;241m%\u001B[39m real_dst)\n\u001B[0;32m    846\u001B[0m \u001B[38;5;28;01mtry\u001B[39;00m:\n\u001B[0;32m    847\u001B[0m     os\u001B[38;5;241m.\u001B[39mrename(src, real_dst)\n",
      "\u001B[1;31mError\u001B[0m: Destination path '../../../data\\demo\\demo' already exists"
     ]
    }
   ],
   "execution_count": 3
  }
 ],
 "metadata": {
  "kernelspec": {
   "display_name": "Python 3",
   "language": "python",
   "name": "python3"
  },
  "language_info": {
   "codemirror_mode": {
    "name": "ipython",
    "version": 2
   },
   "file_extension": ".py",
   "mimetype": "text/x-python",
   "name": "python",
   "nbconvert_exporter": "python",
   "pygments_lexer": "ipython2",
   "version": "2.7.6"
  }
 },
 "nbformat": 4,
 "nbformat_minor": 5
}
