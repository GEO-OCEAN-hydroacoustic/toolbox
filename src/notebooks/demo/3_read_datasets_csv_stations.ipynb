{
 "cells": [
  {
   "metadata": {},
   "cell_type": "markdown",
   "source": "This notebook is pretty similar to the notebook 2 but uses the StationCatalog API to select the good station.",
   "id": "1fdc5702907cc76f"
  },
  {
   "cell_type": "code",
   "id": "initial_id",
   "metadata": {
    "collapsed": true
   },
   "source": [
    "from matplotlib import pyplot as plt\n",
    "import datetime\n",
    "\n",
    "from utils.data_reading.sound_data.station import StationsCatalog"
   ],
   "outputs": [],
   "execution_count": null
  },
  {
   "metadata": {},
   "cell_type": "code",
   "source": [
    "catalog_path = \"../../../data/demo\"  # path of a directory containing (with up to 3 levels) a dataset descriptor (.csv, .yaml)\n",
    "\n",
    "stations = StationsCatalog(catalog_path)\n",
    "print(f\"Stations catalog: {stations}\")\n",
    "\n",
    "mahy0 = stations.by_dataset(\"MAHY0\")\n",
    "print(f\"Stations catalog with dataset MAHY0: {mahy0}\")\n",
    "station = mahy0.by_name(\"MAHY03\")\n",
    "print(f\"Stations catalog with name MAHY03: {station}\")\n",
    "station = station[0]  # extract a Station from the StationCatalog with indexing as if it was a list\n",
    "print(f\"Station : {station}\")\n",
    "\n",
    "manager = station.get_manager()\n",
    "print(f\"Manager : {manager}\")\n",
    "\n",
    "date_start = manager.dataset_start\n",
    "date_end = manager.dataset_start + datetime.timedelta(seconds=100)\n",
    "data = manager.get_segment(date_start, date_end)\n",
    "plt.plot(data)\n",
    "plt.xlabel(\"Time (s)\")\n",
    "plt.ylabel(\"Amplitude (uPa)\")  # uPa computed using the sensibility of the station (given in the .csv)"
   ],
   "id": "ee68c9e9dbaa2c10",
   "outputs": [],
   "execution_count": null
  }
 ],
 "metadata": {
  "kernelspec": {
   "display_name": "Python 3",
   "language": "python",
   "name": "python3"
  },
  "language_info": {
   "codemirror_mode": {
    "name": "ipython",
    "version": 2
   },
   "file_extension": ".py",
   "mimetype": "text/x-python",
   "name": "python",
   "nbconvert_exporter": "python",
   "pygments_lexer": "ipython2",
   "version": "2.7.6"
  }
 },
 "nbformat": 4,
 "nbformat_minor": 5
}
