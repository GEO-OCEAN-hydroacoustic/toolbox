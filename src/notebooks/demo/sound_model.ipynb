{
 "cells": [
  {
   "cell_type": "code",
   "id": "initial_id",
   "metadata": {
    "collapsed": true
   },
   "source": [
    "from utils.physics.sound_model.sound_model import HomogeneousSoundModel\n",
    "\n",
    "import datetime"
   ],
   "outputs": [],
   "execution_count": null
  },
  {
   "metadata": {},
   "cell_type": "code",
   "source": [
    "# propagation time\n",
    "\n",
    "pos_1 = [-25, 10]  # lat, lon format (in degrees)\n",
    "pos_2 = [-30, 15]\n",
    "\n",
    "sound_model = HomogeneousSoundModel(sound_speed=1480)\n",
    "\n",
    "propagation_time = sound_model.get_sound_travel_time(pos_1, pos_2)\n",
    "print(f\"Propagation time between {pos_1} and {pos_2}: {propagation_time:.2f}s\")"
   ],
   "id": "ee68c9e9dbaa2c10",
   "outputs": [],
   "execution_count": null
  },
  {
   "metadata": {},
   "cell_type": "code",
   "source": [
    "# location\n",
    "\n",
    "detection_pos_1 = [5, 0]\n",
    "detection_pos_2 = [10, 0]\n",
    "detection_pos_3 = [0, 5]\n",
    "detection_pos_4 = [0, -10]\n",
    "detection_positions = [detection_pos_1, detection_pos_2, detection_pos_3, detection_pos_4]\n",
    "\n",
    "detection_time_1 = datetime.datetime(2020, 1, 1, 0, 0, 0)\n",
    "detection_time_2 = detection_time_1 + datetime.timedelta(seconds=5*60)\n",
    "detection_time_3 = detection_time_1\n",
    "detection_time_4 = detection_time_3 + datetime.timedelta(seconds=5*60)\n",
    "detection_times = [detection_time_1, detection_time_2, detection_time_3, detection_time_4]\n",
    "\n",
    "sound_model = HomogeneousSoundModel(sound_speed=1820)\n",
    "\n",
    "inversion = sound_model.localize_common_source(detection_positions, detection_times)\n",
    "print(f\"Found source position {inversion.x[1:]} with an emission {inversion.x[0]:.2f}s before the first detection. Cost was {inversion.cost:.2f}s.\")"
   ],
   "id": "4d0f275b073239d3",
   "outputs": [],
   "execution_count": null
  }
 ],
 "metadata": {
  "kernelspec": {
   "display_name": "Python 3",
   "language": "python",
   "name": "python3"
  },
  "language_info": {
   "codemirror_mode": {
    "name": "ipython",
    "version": 2
   },
   "file_extension": ".py",
   "mimetype": "text/x-python",
   "name": "python",
   "nbconvert_exporter": "python",
   "pygments_lexer": "ipython2",
   "version": "2.7.6"
  }
 },
 "nbformat": 4,
 "nbformat_minor": 5
}
