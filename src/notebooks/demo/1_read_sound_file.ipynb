{
 "cells": [
  {
   "metadata": {},
   "cell_type": "markdown",
   "source": "This notebook enables to open a single sound file and read its content.",
   "id": "a1764a862e87a671"
  },
  {
   "cell_type": "code",
   "id": "initial_id",
   "metadata": {
    "collapsed": true,
    "ExecuteTime": {
     "end_time": "2025-02-17T10:47:35.431202Z",
     "start_time": "2025-02-17T10:47:33.914463Z"
    }
   },
   "source": [
    "from matplotlib import pyplot as plt\n",
    "\n",
    "from utils.data_reading.sound_data.sound_file import DatFile"
   ],
   "outputs": [],
   "execution_count": 1
  },
  {
   "metadata": {
    "ExecuteTime": {
     "end_time": "2025-03-03T18:24:21.349086Z",
     "start_time": "2025-03-03T18:24:19.879011Z"
    }
   },
   "cell_type": "code",
   "source": [
    "path = \"../../../data/demo/sound_data/MAHY0/MAHY01/0300.DAT\"  # put the path to a DAT file here\n",
    "\n",
    "file = DatFile(path, skip_data=False)\n",
    "# note: WavFile and WFile exist too\n",
    "\n",
    "print(file.header)  # metadata thar were read from the header\n",
    "plt.plot(file.data[:240*100])\n",
    "plt.xlabel(\"Time (s)\")\n",
    "plt.ylabel(\"Amplitude (~uPa)\")  # having given no precise sensitivity, the data may be far from uPa"
   ],
   "id": "ee68c9e9dbaa2c10",
   "outputs": [
    {
     "ename": "NameError",
     "evalue": "name 'DatFile' is not defined",
     "output_type": "error",
     "traceback": [
      "\u001B[1;31m---------------------------------------------------------------------------\u001B[0m",
      "\u001B[1;31mNameError\u001B[0m                                 Traceback (most recent call last)",
      "Cell \u001B[1;32mIn[1], line 3\u001B[0m\n\u001B[0;32m      1\u001B[0m path \u001B[38;5;241m=\u001B[39m \u001B[38;5;124m\"\u001B[39m\u001B[38;5;124m../../../data/demo/2018_raw/ELAN/00000000.DAT\u001B[39m\u001B[38;5;124m\"\u001B[39m  \u001B[38;5;66;03m# put a DAT file here\u001B[39;00m\n\u001B[1;32m----> 3\u001B[0m file \u001B[38;5;241m=\u001B[39m \u001B[43mDatFile\u001B[49m(path, skip_data\u001B[38;5;241m=\u001B[39m\u001B[38;5;28;01mFalse\u001B[39;00m)\n\u001B[0;32m      5\u001B[0m \u001B[38;5;28mprint\u001B[39m(file\u001B[38;5;241m.\u001B[39mheader)\n\u001B[0;32m      6\u001B[0m plt\u001B[38;5;241m.\u001B[39mplot(file\u001B[38;5;241m.\u001B[39mdata[:\u001B[38;5;241m240\u001B[39m\u001B[38;5;241m*\u001B[39m\u001B[38;5;241m100\u001B[39m])\n",
      "\u001B[1;31mNameError\u001B[0m: name 'DatFile' is not defined"
     ]
    }
   ],
   "execution_count": 1
  }
 ],
 "metadata": {
  "kernelspec": {
   "display_name": "Python 3",
   "language": "python",
   "name": "python3"
  },
  "language_info": {
   "codemirror_mode": {
    "name": "ipython",
    "version": 2
   },
   "file_extension": ".py",
   "mimetype": "text/x-python",
   "name": "python",
   "nbconvert_exporter": "python",
   "pygments_lexer": "ipython2",
   "version": "2.7.6"
  }
 },
 "nbformat": 4,
 "nbformat_minor": 5
}
