{
 "cells": [
  {
   "metadata": {},
   "cell_type": "markdown",
   "source": "This notebook enables to open a single sound file and read its content.",
   "id": "a1764a862e87a671"
  },
  {
   "cell_type": "code",
   "id": "initial_id",
   "metadata": {
    "collapsed": true
   },
   "source": [
    "from matplotlib import pyplot as plt\n",
    "\n",
    "from utils.data_reading.sound_data.sound_file import DatFile"
   ],
   "outputs": [],
   "execution_count": null
  },
  {
   "metadata": {},
   "cell_type": "code",
   "source": [
    "path = \"../../../data/demo/sound_data/MAHY0/MAHY01/0300.DAT\"  # put the path to a DAT file here\n",
    "\n",
    "file = DatFile(path, skip_data=False)\n",
    "# note: WavFile and WFile exist too\n",
    "\n",
    "print(file.header)  # metadata thar were read from the header\n",
    "plt.plot(file.data[:240*100])\n",
    "plt.xlabel(\"Time (s)\")\n",
    "plt.ylabel(\"Amplitude (~uPa)\")  # having given no precise sensitivity, the data may be far from uPa"
   ],
   "id": "ee68c9e9dbaa2c10",
   "outputs": [],
   "execution_count": null
  }
 ],
 "metadata": {
  "kernelspec": {
   "display_name": "Python 3",
   "language": "python",
   "name": "python3"
  },
  "language_info": {
   "codemirror_mode": {
    "name": "ipython",
    "version": 2
   },
   "file_extension": ".py",
   "mimetype": "text/x-python",
   "name": "python",
   "nbconvert_exporter": "python",
   "pygments_lexer": "ipython2",
   "version": "2.7.6"
  }
 },
 "nbformat": 4,
 "nbformat_minor": 5
}
