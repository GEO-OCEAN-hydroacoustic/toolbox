{
 "cells": [
  {
   "cell_type": "code",
   "id": "initial_id",
   "metadata": {
    "collapsed": true
   },
   "source": [
    "from matplotlib import pyplot as plt\n",
    "import datetime\n",
    "\n",
    "from utils.data_reading.sound_data.sound_file_manager import DatFilesManager\n",
    "from utils.physics.signal.make_spectrogram import make_spectrogram"
   ],
   "outputs": [],
   "execution_count": null
  },
  {
   "metadata": {},
   "cell_type": "code",
   "source": [
    "path = \"../../../data/demo/2018_raw/ELAN\"  # put a DAT directory here\n",
    "\n",
    "manager = DatFilesManager(path)\n",
    "\n",
    "date_start = manager.files[0].header[\"end_date\"] - datetime.timedelta(seconds=50)\n",
    "date_end = manager.files[1].header[\"start_date\"] + datetime.timedelta(seconds=50)\n",
    "data = manager.get_segment(date_start, date_end)\n",
    "print(len(data))\n",
    "f, t, spectro = make_spectrogram(data, manager.sampling_f, t_res=0.5, f_res=0.5, return_bins=True)\n",
    "plt.imshow(spectro, aspect=\"auto\", cmap=\"jet\", extent=(t[0], t[-1], f[0], f[-1]))\n",
    "plt.xlabel(\"Time (s)\")\n",
    "plt.ylabel(\"Frequency (Hz)\")"
   ],
   "id": "4c34872e2ccd50a0",
   "outputs": [],
   "execution_count": null
  }
 ],
 "metadata": {
  "kernelspec": {
   "display_name": "Python 3",
   "language": "python",
   "name": "python3"
  },
  "language_info": {
   "codemirror_mode": {
    "name": "ipython",
    "version": 2
   },
   "file_extension": ".py",
   "mimetype": "text/x-python",
   "name": "python",
   "nbconvert_exporter": "python",
   "pygments_lexer": "ipython2",
   "version": "2.7.6"
  }
 },
 "nbformat": 4,
 "nbformat_minor": 5
}
