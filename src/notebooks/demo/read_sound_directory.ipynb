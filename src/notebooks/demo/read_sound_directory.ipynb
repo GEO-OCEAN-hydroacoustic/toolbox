{
 "cells": [
  {
   "cell_type": "code",
   "id": "initial_id",
   "metadata": {
    "collapsed": true
   },
   "source": [
    "from matplotlib import pyplot as plt\n",
    "import datetime\n",
    "\n",
    "from src.utils.data_reading.sound_data.sound_file_manager import DatFilesManager"
   ],
   "outputs": [],
   "execution_count": null
  },
  {
   "metadata": {},
   "cell_type": "code",
   "source": [
    "path = \"../../../data/demo/2018_raw/ELAN\"  # put a DAT directory here\n",
    "\n",
    "manager = DatFilesManager(path)\n",
    "\n",
    "print(manager)\n",
    "\n",
    "date_start = manager.dataset_start\n",
    "date_end = manager.dataset_start + datetime.timedelta(seconds=100)\n",
    "data = manager.getSegment(date_start, date_end)\n",
    "plt.plot(data)"
   ],
   "id": "947f7365ec3516d4",
   "outputs": [],
   "execution_count": null
  }
 ],
 "metadata": {
  "kernelspec": {
   "display_name": "Python 3",
   "language": "python",
   "name": "python3"
  },
  "language_info": {
   "codemirror_mode": {
    "name": "ipython",
    "version": 2
   },
   "file_extension": ".py",
   "mimetype": "text/x-python",
   "name": "python",
   "nbconvert_exporter": "python",
   "pygments_lexer": "ipython2",
   "version": "2.7.6"
  }
 },
 "nbformat": 4,
 "nbformat_minor": 5
}
