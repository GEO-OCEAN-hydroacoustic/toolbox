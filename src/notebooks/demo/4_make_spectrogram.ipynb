{
 "cells": [
  {
   "metadata": {},
   "cell_type": "markdown",
   "source": "Load some acoustic data and make a spectrogram from them.",
   "id": "511799018d013a4a"
  },
  {
   "cell_type": "code",
   "id": "initial_id",
   "metadata": {
    "collapsed": true
   },
   "source": [
    "from matplotlib import pyplot as plt\n",
    "import datetime\n",
    "\n",
    "from utils.data_reading.sound_data.station import StationsCatalog\n",
    "from utils.physics.signal.make_spectrogram import make_spectrogram"
   ],
   "outputs": [],
   "execution_count": null
  },
  {
   "metadata": {},
   "cell_type": "code",
   "source": [
    "catalog_path = \"../../../data/demo\"  # path of a directory containing (with up to 3 levels) a dataset descriptor (.csv, .yaml)\n",
    "\n",
    "stations = StationsCatalog(catalog_path)\n",
    "manager = stations.by_name(\"MAHY01\")[0].get_manager()\n",
    "\n",
    "date_start = manager.files[0].header[\"end_date\"] - datetime.timedelta(seconds=50)\n",
    "date_end = manager.files[1].header[\"start_date\"] + datetime.timedelta(seconds=50)\n",
    "data = manager.get_segment(date_start, date_end)\n",
    "\n",
    "print(f\"{len(data)} points fetched\")\n",
    "\n",
    "# note: we provide the expected time and frequency resolution, the function computes the rest (n points, overlap...)\n",
    "f, t, spectro = make_spectrogram(data, manager.sampling_f, t_res=0.5, f_res=0.5, return_bins=True)\n",
    "\n",
    "print(f\"Shape of the spectrogram: {spectro.shape}\")\n",
    "\n",
    "plt.imshow(spectro, aspect=\"auto\", cmap=\"inferno\", extent=(t[0], t[-1], f[0], f[-1]))\n",
    "plt.xlabel(\"Time (s)\")\n",
    "plt.ylabel(\"Frequency (Hz)\")\n",
    "plt.colorbar()"
   ],
   "id": "4c34872e2ccd50a0",
   "outputs": [],
   "execution_count": null
  },
  {
   "metadata": {},
   "cell_type": "markdown",
   "source": "Same but normalized",
   "id": "d3831cb15437cce"
  },
  {
   "metadata": {},
   "cell_type": "code",
   "source": [
    "f, t, spectro = make_spectrogram(data, manager.sampling_f, t_res=0.5, f_res=0.5, return_bins=True, normalize=True)\n",
    "plt.imshow(spectro, aspect=\"auto\", cmap=\"inferno\", extent=(t[0], t[-1], f[0], f[-1]))\n",
    "plt.xlabel(\"Time (s)\")\n",
    "plt.ylabel(\"Frequency (Hz)\")\n",
    "plt.colorbar()"
   ],
   "id": "f2a8be3928340383",
   "outputs": [],
   "execution_count": null
  },
  {
   "metadata": {},
   "cell_type": "markdown",
   "source": "Same but normalized between two specified ranges",
   "id": "619d3ad8c1079134"
  },
  {
   "metadata": {},
   "cell_type": "code",
   "source": [
    "f, t, spectro = make_spectrogram(data, manager.sampling_f, t_res=0.5, f_res=0.5, return_bins=True, normalize=False, vmin=60, vmax=80)\n",
    "plt.imshow(spectro, aspect=\"auto\", cmap=\"inferno\", extent=(t[0], t[-1], f[0], f[-1]))\n",
    "plt.xlabel(\"Time (s)\")\n",
    "plt.ylabel(\"Frequency (Hz)\")\n",
    "plt.colorbar()"
   ],
   "id": "96eab9beabd7277e",
   "outputs": [],
   "execution_count": null
  }
 ],
 "metadata": {
  "kernelspec": {
   "display_name": "Python 3",
   "language": "python",
   "name": "python3"
  },
  "language_info": {
   "codemirror_mode": {
    "name": "ipython",
    "version": 2
   },
   "file_extension": ".py",
   "mimetype": "text/x-python",
   "name": "python",
   "nbconvert_exporter": "python",
   "pygments_lexer": "ipython2",
   "version": "2.7.6"
  }
 },
 "nbformat": 4,
 "nbformat_minor": 5
}
